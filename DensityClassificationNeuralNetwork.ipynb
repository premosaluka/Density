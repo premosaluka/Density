{
 "cells": [
  {
   "cell_type": "markdown",
   "metadata": {},
   "source": [
    "# Breast density calculation using quantitive analysis of mammographic images \n",
    "\n",
    "\n",
    "### Purpose\n",
    "Breast density is an important independent breast cancer risk factor.\n",
    "Breast density reading is not a part of the standard screening examination due to\n",
    "time considerations. Purpose of this project was to assess predictive power of computer\n",
    "algorithms for breast density reading using quantitative analysis of mammographic\n",
    "images. \n",
    "\n",
    "### Data and methods\n",
    "We used 4624 processed mamogramms\n",
    "recorded by Siemens scanners. Images were part of the DORA (Slovenian Breast Cancer Screening Programme) data base. Breast segmentation and feature generation were performed using LIBRA software. We used statistical method mRMR for feature selection. Classifier was based on fully-connected neural network. Predictive power was assessed by calculating Cohen's coefficient κ. \n",
    "\n",
    "### Results\n",
    "Our model scored kappa value of 0.61 which we can interpret as moderate agreement. We get very similar results using classifier based on multinomial logistic regression. \n",
    "\n",
    "\n",
    "## Data\n",
    "We used 4624 processed mammograms from Slovenian Breast Cancer Screening Programme (DORA) database. For each patient we had 2 pairs of raw and processed images of same breast in CC and MLO views. Patients had density determined only on one breast (either left or right). \n",
    "Breast density reading was performed only on images that were deamed suspicious. A futher diagnosis, however, found no cancer and patients were returned to DORA program. This means our dataset was atypical and biased. \n",
    "\n",
    "## Density classification\n",
    "Breast density was classified using BI-RADS atlas which consists of 4 density classes. First class includes breats with low density and last (fourth) class breasts with highest density. "
   ]
  },
  {
   "cell_type": "markdown",
   "metadata": {},
   "source": [
    "First we import necessary modules"
   ]
  },
  {
   "cell_type": "code",
   "execution_count": 1,
   "metadata": {},
   "outputs": [],
   "source": [
    "import tensorflow as tf\n",
    "import numpy as np\n",
    "from tensorflow import keras\n",
    "import pandas as pd\n",
    "import pymrmr\n",
    "from sklearn.model_selection import train_test_split\n",
    "from sklearn import preprocessing\n",
    "from scipy.stats import zscore"
   ]
  },
  {
   "cell_type": "markdown",
   "metadata": {},
   "source": [
    "Segmentation and feature generation was performed using LIBRA software. Features were extracted and saved in an excel spreadsheet (.xlxs)."
   ]
  },
  {
   "cell_type": "code",
   "execution_count": 2,
   "metadata": {},
   "outputs": [],
   "source": [
    "data = pd.read_excel('anonymizedDensityTable.xlsx') # open excel file using pandas"
   ]
  },
  {
   "cell_type": "markdown",
   "metadata": {},
   "source": [
    "The file contains features from raw and processed mammograms. In this analysus we focused only on processed images. Each patient had breast density class defined only for one breast (either left or right). We filtered out breasts with empty density input. "
   ]
  },
  {
   "cell_type": "code",
   "execution_count": 3,
   "metadata": {},
   "outputs": [],
   "source": [
    "data = data[data.density != 0] # filter out breasts with no density input\n",
    "data_processed = data[data.presentationIntentType == 'FOR PRESENTATION'] # filter out raw (\"FOR PROCESSING\") images\n",
    "# we are now left with only processed (\"FOR PRESENTATION\") images"
   ]
  },
  {
   "cell_type": "markdown",
   "metadata": {},
   "source": [
    "For our analysis we can discard ['Key', 'viewPosition', 'imageLaterality', 'studyDate',\n",
    "       'study', 'series', 'file', 'institutionName', 'Manufacturer',\n",
    "       'presentationIntentType'] columns."
   ]
  },
  {
   "cell_type": "code",
   "execution_count": 4,
   "metadata": {
    "scrolled": true
   },
   "outputs": [
    {
     "data": {
      "text/plain": [
       "Index(['Key', 'viewPosition', 'imageLaterality', 'studyDate', 'density',\n",
       "       'study', 'series', 'file', 'institutionName', 'Manufacturer',\n",
       "       'presentationIntentType', 'moment3', 'moment4', 'moment5', 'range',\n",
       "       'skewness', 'kurtosis', 'PatientAge', 'BodyPartThickness'],\n",
       "      dtype='object')"
      ]
     },
     "execution_count": 4,
     "metadata": {},
     "output_type": "execute_result"
    }
   ],
   "source": [
    "data_processed.columns[1:20] # we will discard first few columns."
   ]
  },
  {
   "cell_type": "code",
   "execution_count": 5,
   "metadata": {},
   "outputs": [],
   "source": [
    "density = data_processed.density # we need to save density column\n",
    "data_processed=data_processed.drop(columns=data_processed.columns[0:12],axis=1).apply(zscore) #discard first few columns and apply z-score normalization"
   ]
  },
  {
   "cell_type": "markdown",
   "metadata": {},
   "source": [
    "With z-score normalization we make features more comparable with one another."
   ]
  },
  {
   "cell_type": "code",
   "execution_count": 6,
   "metadata": {},
   "outputs": [],
   "source": [
    "data_final = data_processed.dropna(axis=1) # there are 3 columns with a lot of NaN values. We can drop those 3 columns (features)\n"
   ]
  },
  {
   "cell_type": "code",
   "execution_count": 7,
   "metadata": {},
   "outputs": [
    {
     "data": {
      "text/html": [
       "<div>\n",
       "<style scoped>\n",
       "    .dataframe tbody tr th:only-of-type {\n",
       "        vertical-align: middle;\n",
       "    }\n",
       "\n",
       "    .dataframe tbody tr th {\n",
       "        vertical-align: top;\n",
       "    }\n",
       "\n",
       "    .dataframe thead th {\n",
       "        text-align: right;\n",
       "    }\n",
       "</style>\n",
       "<table border=\"1\" class=\"dataframe\">\n",
       "  <thead>\n",
       "    <tr style=\"text-align: right;\">\n",
       "      <th></th>\n",
       "      <th>moment3</th>\n",
       "      <th>moment4</th>\n",
       "      <th>moment5</th>\n",
       "      <th>range</th>\n",
       "      <th>skewness</th>\n",
       "      <th>kurtosis</th>\n",
       "      <th>PatientAge</th>\n",
       "      <th>BodyPartThickness</th>\n",
       "      <th>CompressionForce</th>\n",
       "      <th>Exposure</th>\n",
       "      <th>...</th>\n",
       "      <th>Orientation_df_mean</th>\n",
       "      <th>ConvexArea_df_mean</th>\n",
       "      <th>Solidity_df_mean</th>\n",
       "      <th>Extent_df_mean</th>\n",
       "      <th>Perimeter_df_mean</th>\n",
       "      <th>Contrast_df_mean</th>\n",
       "      <th>Correlation_df_mean</th>\n",
       "      <th>Energy_df_mean</th>\n",
       "      <th>Homogeneity_df_mean</th>\n",
       "      <th>Entropy_df_mean</th>\n",
       "    </tr>\n",
       "  </thead>\n",
       "  <tbody>\n",
       "    <tr>\n",
       "      <th>4</th>\n",
       "      <td>-0.281479</td>\n",
       "      <td>-0.045502</td>\n",
       "      <td>-0.027825</td>\n",
       "      <td>1.136032</td>\n",
       "      <td>-0.231991</td>\n",
       "      <td>0.281277</td>\n",
       "      <td>0.412655</td>\n",
       "      <td>-1.172179</td>\n",
       "      <td>1.639159</td>\n",
       "      <td>-0.272179</td>\n",
       "      <td>...</td>\n",
       "      <td>0.023047</td>\n",
       "      <td>3.152284</td>\n",
       "      <td>-0.396801</td>\n",
       "      <td>-0.053608</td>\n",
       "      <td>-0.051569</td>\n",
       "      <td>0.007689</td>\n",
       "      <td>-0.934591</td>\n",
       "      <td>-0.122998</td>\n",
       "      <td>0.007688</td>\n",
       "      <td>-0.039911</td>\n",
       "    </tr>\n",
       "    <tr>\n",
       "      <th>6</th>\n",
       "      <td>0.396827</td>\n",
       "      <td>0.364207</td>\n",
       "      <td>0.760360</td>\n",
       "      <td>-0.182639</td>\n",
       "      <td>0.477593</td>\n",
       "      <td>0.597057</td>\n",
       "      <td>0.412655</td>\n",
       "      <td>-1.381850</td>\n",
       "      <td>1.580024</td>\n",
       "      <td>-0.438957</td>\n",
       "      <td>...</td>\n",
       "      <td>0.021574</td>\n",
       "      <td>0.708211</td>\n",
       "      <td>-0.320376</td>\n",
       "      <td>-0.034396</td>\n",
       "      <td>-0.021088</td>\n",
       "      <td>0.013395</td>\n",
       "      <td>0.451380</td>\n",
       "      <td>-0.132484</td>\n",
       "      <td>0.013394</td>\n",
       "      <td>-0.039392</td>\n",
       "    </tr>\n",
       "    <tr>\n",
       "      <th>10</th>\n",
       "      <td>-0.371324</td>\n",
       "      <td>-0.395874</td>\n",
       "      <td>0.343566</td>\n",
       "      <td>-0.015036</td>\n",
       "      <td>0.098497</td>\n",
       "      <td>2.991188</td>\n",
       "      <td>1.240615</td>\n",
       "      <td>1.903007</td>\n",
       "      <td>-1.633976</td>\n",
       "      <td>1.136170</td>\n",
       "      <td>...</td>\n",
       "      <td>0.341943</td>\n",
       "      <td>0.387886</td>\n",
       "      <td>-3.303309</td>\n",
       "      <td>-0.475242</td>\n",
       "      <td>-0.019228</td>\n",
       "      <td>0.021857</td>\n",
       "      <td>-0.611890</td>\n",
       "      <td>-1.646683</td>\n",
       "      <td>0.021855</td>\n",
       "      <td>-0.387888</td>\n",
       "    </tr>\n",
       "    <tr>\n",
       "      <th>14</th>\n",
       "      <td>-1.389567</td>\n",
       "      <td>-1.786668</td>\n",
       "      <td>-1.173511</td>\n",
       "      <td>0.389195</td>\n",
       "      <td>-1.409681</td>\n",
       "      <td>-1.089927</td>\n",
       "      <td>1.240615</td>\n",
       "      <td>0.784757</td>\n",
       "      <td>0.879272</td>\n",
       "      <td>1.488257</td>\n",
       "      <td>...</td>\n",
       "      <td>-0.005092</td>\n",
       "      <td>1.632230</td>\n",
       "      <td>-0.385114</td>\n",
       "      <td>-0.071282</td>\n",
       "      <td>0.003173</td>\n",
       "      <td>0.030120</td>\n",
       "      <td>-2.255885</td>\n",
       "      <td>-0.221465</td>\n",
       "      <td>0.030119</td>\n",
       "      <td>-0.064908</td>\n",
       "    </tr>\n",
       "    <tr>\n",
       "      <th>16</th>\n",
       "      <td>1.313371</td>\n",
       "      <td>0.512965</td>\n",
       "      <td>0.718253</td>\n",
       "      <td>-1.712929</td>\n",
       "      <td>1.163325</td>\n",
       "      <td>-0.004204</td>\n",
       "      <td>-1.243265</td>\n",
       "      <td>0.225633</td>\n",
       "      <td>2.067890</td>\n",
       "      <td>1.432665</td>\n",
       "      <td>...</td>\n",
       "      <td>0.022666</td>\n",
       "      <td>-1.208315</td>\n",
       "      <td>0.941764</td>\n",
       "      <td>0.064038</td>\n",
       "      <td>0.017294</td>\n",
       "      <td>0.008738</td>\n",
       "      <td>0.410798</td>\n",
       "      <td>0.143208</td>\n",
       "      <td>0.008737</td>\n",
       "      <td>0.018195</td>\n",
       "    </tr>\n",
       "    <tr>\n",
       "      <th>...</th>\n",
       "      <td>...</td>\n",
       "      <td>...</td>\n",
       "      <td>...</td>\n",
       "      <td>...</td>\n",
       "      <td>...</td>\n",
       "      <td>...</td>\n",
       "      <td>...</td>\n",
       "      <td>...</td>\n",
       "      <td>...</td>\n",
       "      <td>...</td>\n",
       "      <td>...</td>\n",
       "      <td>...</td>\n",
       "      <td>...</td>\n",
       "      <td>...</td>\n",
       "      <td>...</td>\n",
       "      <td>...</td>\n",
       "      <td>...</td>\n",
       "      <td>...</td>\n",
       "      <td>...</td>\n",
       "      <td>...</td>\n",
       "      <td>...</td>\n",
       "    </tr>\n",
       "    <tr>\n",
       "      <th>18062</th>\n",
       "      <td>-1.876011</td>\n",
       "      <td>-1.023883</td>\n",
       "      <td>-1.784291</td>\n",
       "      <td>1.241258</td>\n",
       "      <td>-1.853414</td>\n",
       "      <td>-1.103159</td>\n",
       "      <td>1.571799</td>\n",
       "      <td>0.155742</td>\n",
       "      <td>-0.607980</td>\n",
       "      <td>0.042846</td>\n",
       "      <td>...</td>\n",
       "      <td>0.022160</td>\n",
       "      <td>-0.640687</td>\n",
       "      <td>-0.169179</td>\n",
       "      <td>-0.037156</td>\n",
       "      <td>-0.022073</td>\n",
       "      <td>-0.004819</td>\n",
       "      <td>-0.390380</td>\n",
       "      <td>-0.049485</td>\n",
       "      <td>-0.004821</td>\n",
       "      <td>-0.025186</td>\n",
       "    </tr>\n",
       "    <tr>\n",
       "      <th>18070</th>\n",
       "      <td>-1.235389</td>\n",
       "      <td>-1.184830</td>\n",
       "      <td>-1.181574</td>\n",
       "      <td>1.637239</td>\n",
       "      <td>-1.238041</td>\n",
       "      <td>0.817221</td>\n",
       "      <td>1.075023</td>\n",
       "      <td>-0.053929</td>\n",
       "      <td>-1.633976</td>\n",
       "      <td>0.394934</td>\n",
       "      <td>...</td>\n",
       "      <td>0.023273</td>\n",
       "      <td>0.607020</td>\n",
       "      <td>-0.349575</td>\n",
       "      <td>-0.060813</td>\n",
       "      <td>-0.021458</td>\n",
       "      <td>-0.004469</td>\n",
       "      <td>-4.864469</td>\n",
       "      <td>-0.127436</td>\n",
       "      <td>-0.004471</td>\n",
       "      <td>-0.046638</td>\n",
       "    </tr>\n",
       "    <tr>\n",
       "      <th>18072</th>\n",
       "      <td>-0.431306</td>\n",
       "      <td>0.104705</td>\n",
       "      <td>-0.046401</td>\n",
       "      <td>0.833080</td>\n",
       "      <td>-0.388509</td>\n",
       "      <td>0.427141</td>\n",
       "      <td>1.075023</td>\n",
       "      <td>0.225633</td>\n",
       "      <td>0.515590</td>\n",
       "      <td>0.376403</td>\n",
       "      <td>...</td>\n",
       "      <td>0.170888</td>\n",
       "      <td>-0.310508</td>\n",
       "      <td>-0.256162</td>\n",
       "      <td>-0.046167</td>\n",
       "      <td>-0.022684</td>\n",
       "      <td>0.176147</td>\n",
       "      <td>-1.218371</td>\n",
       "      <td>-0.146318</td>\n",
       "      <td>0.176145</td>\n",
       "      <td>-0.044246</td>\n",
       "    </tr>\n",
       "    <tr>\n",
       "      <th>18076</th>\n",
       "      <td>-1.006259</td>\n",
       "      <td>-1.353343</td>\n",
       "      <td>-1.051394</td>\n",
       "      <td>-0.059520</td>\n",
       "      <td>-1.025978</td>\n",
       "      <td>-1.346431</td>\n",
       "      <td>-0.580897</td>\n",
       "      <td>0.714867</td>\n",
       "      <td>0.973888</td>\n",
       "      <td>0.617305</td>\n",
       "      <td>...</td>\n",
       "      <td>0.022869</td>\n",
       "      <td>-0.264346</td>\n",
       "      <td>0.048461</td>\n",
       "      <td>-0.013868</td>\n",
       "      <td>-0.020752</td>\n",
       "      <td>0.013245</td>\n",
       "      <td>-0.256969</td>\n",
       "      <td>-0.064484</td>\n",
       "      <td>0.013244</td>\n",
       "      <td>-0.029827</td>\n",
       "    </tr>\n",
       "    <tr>\n",
       "      <th>18077</th>\n",
       "      <td>-1.688348</td>\n",
       "      <td>-0.497070</td>\n",
       "      <td>-1.536489</td>\n",
       "      <td>1.171395</td>\n",
       "      <td>-1.677147</td>\n",
       "      <td>-0.683204</td>\n",
       "      <td>-0.580897</td>\n",
       "      <td>0.365414</td>\n",
       "      <td>-0.519277</td>\n",
       "      <td>-0.309241</td>\n",
       "      <td>...</td>\n",
       "      <td>0.025611</td>\n",
       "      <td>-0.633390</td>\n",
       "      <td>0.032208</td>\n",
       "      <td>-0.015073</td>\n",
       "      <td>-0.024085</td>\n",
       "      <td>0.014260</td>\n",
       "      <td>-0.115162</td>\n",
       "      <td>0.122745</td>\n",
       "      <td>0.014258</td>\n",
       "      <td>0.002618</td>\n",
       "    </tr>\n",
       "  </tbody>\n",
       "</table>\n",
       "<p>4624 rows × 135 columns</p>\n",
       "</div>"
      ],
      "text/plain": [
       "        moment3   moment4   moment5     range  skewness  kurtosis  PatientAge  \\\n",
       "4     -0.281479 -0.045502 -0.027825  1.136032 -0.231991  0.281277    0.412655   \n",
       "6      0.396827  0.364207  0.760360 -0.182639  0.477593  0.597057    0.412655   \n",
       "10    -0.371324 -0.395874  0.343566 -0.015036  0.098497  2.991188    1.240615   \n",
       "14    -1.389567 -1.786668 -1.173511  0.389195 -1.409681 -1.089927    1.240615   \n",
       "16     1.313371  0.512965  0.718253 -1.712929  1.163325 -0.004204   -1.243265   \n",
       "...         ...       ...       ...       ...       ...       ...         ...   \n",
       "18062 -1.876011 -1.023883 -1.784291  1.241258 -1.853414 -1.103159    1.571799   \n",
       "18070 -1.235389 -1.184830 -1.181574  1.637239 -1.238041  0.817221    1.075023   \n",
       "18072 -0.431306  0.104705 -0.046401  0.833080 -0.388509  0.427141    1.075023   \n",
       "18076 -1.006259 -1.353343 -1.051394 -0.059520 -1.025978 -1.346431   -0.580897   \n",
       "18077 -1.688348 -0.497070 -1.536489  1.171395 -1.677147 -0.683204   -0.580897   \n",
       "\n",
       "       BodyPartThickness  CompressionForce  Exposure  ...  \\\n",
       "4              -1.172179          1.639159 -0.272179  ...   \n",
       "6              -1.381850          1.580024 -0.438957  ...   \n",
       "10              1.903007         -1.633976  1.136170  ...   \n",
       "14              0.784757          0.879272  1.488257  ...   \n",
       "16              0.225633          2.067890  1.432665  ...   \n",
       "...                  ...               ...       ...  ...   \n",
       "18062           0.155742         -0.607980  0.042846  ...   \n",
       "18070          -0.053929         -1.633976  0.394934  ...   \n",
       "18072           0.225633          0.515590  0.376403  ...   \n",
       "18076           0.714867          0.973888  0.617305  ...   \n",
       "18077           0.365414         -0.519277 -0.309241  ...   \n",
       "\n",
       "       Orientation_df_mean  ConvexArea_df_mean  Solidity_df_mean  \\\n",
       "4                 0.023047            3.152284         -0.396801   \n",
       "6                 0.021574            0.708211         -0.320376   \n",
       "10                0.341943            0.387886         -3.303309   \n",
       "14               -0.005092            1.632230         -0.385114   \n",
       "16                0.022666           -1.208315          0.941764   \n",
       "...                    ...                 ...               ...   \n",
       "18062             0.022160           -0.640687         -0.169179   \n",
       "18070             0.023273            0.607020         -0.349575   \n",
       "18072             0.170888           -0.310508         -0.256162   \n",
       "18076             0.022869           -0.264346          0.048461   \n",
       "18077             0.025611           -0.633390          0.032208   \n",
       "\n",
       "       Extent_df_mean  Perimeter_df_mean  Contrast_df_mean  \\\n",
       "4           -0.053608          -0.051569          0.007689   \n",
       "6           -0.034396          -0.021088          0.013395   \n",
       "10          -0.475242          -0.019228          0.021857   \n",
       "14          -0.071282           0.003173          0.030120   \n",
       "16           0.064038           0.017294          0.008738   \n",
       "...               ...                ...               ...   \n",
       "18062       -0.037156          -0.022073         -0.004819   \n",
       "18070       -0.060813          -0.021458         -0.004469   \n",
       "18072       -0.046167          -0.022684          0.176147   \n",
       "18076       -0.013868          -0.020752          0.013245   \n",
       "18077       -0.015073          -0.024085          0.014260   \n",
       "\n",
       "       Correlation_df_mean  Energy_df_mean  Homogeneity_df_mean  \\\n",
       "4                -0.934591       -0.122998             0.007688   \n",
       "6                 0.451380       -0.132484             0.013394   \n",
       "10               -0.611890       -1.646683             0.021855   \n",
       "14               -2.255885       -0.221465             0.030119   \n",
       "16                0.410798        0.143208             0.008737   \n",
       "...                    ...             ...                  ...   \n",
       "18062            -0.390380       -0.049485            -0.004821   \n",
       "18070            -4.864469       -0.127436            -0.004471   \n",
       "18072            -1.218371       -0.146318             0.176145   \n",
       "18076            -0.256969       -0.064484             0.013244   \n",
       "18077            -0.115162        0.122745             0.014258   \n",
       "\n",
       "       Entropy_df_mean  \n",
       "4            -0.039911  \n",
       "6            -0.039392  \n",
       "10           -0.387888  \n",
       "14           -0.064908  \n",
       "16            0.018195  \n",
       "...                ...  \n",
       "18062        -0.025186  \n",
       "18070        -0.046638  \n",
       "18072        -0.044246  \n",
       "18076        -0.029827  \n",
       "18077         0.002618  \n",
       "\n",
       "[4624 rows x 135 columns]"
      ]
     },
     "execution_count": 7,
     "metadata": {},
     "output_type": "execute_result"
    }
   ],
   "source": [
    "data_final\n"
   ]
  },
  {
   "cell_type": "markdown",
   "metadata": {},
   "source": [
    "We now have 135 features. For our prediction model (we want to predict density class) we need to select a much smaller sample of most relevant features. One of the well known feature selection algorithms is ANOVA. ANOVA ranks features by their relevance but doesn't take into account their redundancy.   "
   ]
  },
  {
   "cell_type": "code",
   "execution_count": 8,
   "metadata": {
    "scrolled": false
   },
   "outputs": [
    {
     "data": {
      "image/png": "[encoded data removed]",
      "text/plain": [
       "<Figure size 432x288 with 2 Axes>"
      ]
     },
     "metadata": {
      "needs_background": "light"
     },
     "output_type": "display_data"
    }
   ],
   "source": [
    "corrMatrix = data_final.corr() # we can plot correlation matrix of our features\n",
    "\n",
    "import matplotlib.pyplot as plt\n",
    "\n",
    "plt.imshow(abs(corrMatrix)) # we will plot absolute values of correlation\n",
    "plt.colorbar()\n",
    "plt.show()"
   ]
  },
  {
   "cell_type": "markdown",
   "metadata": {},
   "source": [
    "If we plot correlation matrix we can see that many features show strong (absolute) correlation with one another. "
   ]
  },
  {
   "cell_type": "markdown",
   "metadata": {},
   "source": [
    "A good algorith for finding a set features with high relevancy and minimal redundancy is mRMR. It is implemented in pymrmr library."
   ]
  },
  {
   "cell_type": "code",
   "execution_count": 9,
   "metadata": {},
   "outputs": [
    {
     "data": {
      "text/plain": [
       "['lo_win',\n",
       " 'Orientation_last',\n",
       " 'mean_last',\n",
       " 'PatientAge',\n",
       " 'max_diff_yext',\n",
       " 'KVP',\n",
       " 'MajorAxisLength_last',\n",
       " 'range_df_last',\n",
       " 'hi_win',\n",
       " 'stdev',\n",
       " 'MinorAxisLength_df_mean',\n",
       " 'EulerNumber_df_last',\n",
       " 'max_diff_xext',\n",
       " 'intensity_mean_diff_last',\n",
       " 'Correlation_mean',\n",
       " 'Contrast',\n",
       " 'Entropy_df_last',\n",
       " 'Eccentricity_df_mean',\n",
       " 'mean_mean',\n",
       " 'Orientation_df_mean']"
      ]
     },
     "execution_count": 9,
     "metadata": {},
     "output_type": "execute_result"
    }
   ],
   "source": [
    "data_final.insert(0, \"density\", density) # we put density column back in our dataset\n",
    "mrmr_names = pymrmr.mRMR(data_final, 'MIQ', 20) # pymrmr.mRMR algorithm requires first column label\n",
    "# we will select 20 features with highest 'MIQ' score - set of features with high relevancy and low redundancy\n",
    "mrmr_names"
   ]
  },
  {
   "cell_type": "markdown",
   "metadata": {},
   "source": [
    "We can now build a simple model"
   ]
  },
  {
   "cell_type": "code",
   "execution_count": 26,
   "metadata": {},
   "outputs": [],
   "source": [
    "from keras.models import Sequential\n",
    "from keras.layers import Dense\n",
    "\n",
    "model = Sequential()\n",
    "model.add(Dense(20, activation='relu', input_dim=20))\n",
    "model.add(Dense(20, activation='relu'))\n",
    "model.add(Dense(20, activation='relu'))\n",
    "model.add(Dense(4, activation='softmax'))\n",
    "\n",
    "model.compile(optimizer='sgd', loss=tf.keras.losses.CategoricalCrossentropy(), \n",
    "              metrics=['accuracy'])"
   ]
  },
  {
   "cell_type": "code",
   "execution_count": 27,
   "metadata": {},
   "outputs": [
    {
     "data": {
      "text/html": [
       "<div>\n",
       "<style scoped>\n",
       "    .dataframe tbody tr th:only-of-type {\n",
       "        vertical-align: middle;\n",
       "    }\n",
       "\n",
       "    .dataframe tbody tr th {\n",
       "        vertical-align: top;\n",
       "    }\n",
       "\n",
       "    .dataframe thead th {\n",
       "        text-align: right;\n",
       "    }\n",
       "</style>\n",
       "<table border=\"1\" class=\"dataframe\">\n",
       "  <thead>\n",
       "    <tr style=\"text-align: right;\">\n",
       "      <th></th>\n",
       "      <th>density</th>\n",
       "      <th>moment3</th>\n",
       "      <th>moment4</th>\n",
       "      <th>moment5</th>\n",
       "      <th>range</th>\n",
       "      <th>skewness</th>\n",
       "      <th>kurtosis</th>\n",
       "      <th>PatientAge</th>\n",
       "      <th>BodyPartThickness</th>\n",
       "      <th>CompressionForce</th>\n",
       "      <th>...</th>\n",
       "      <th>Orientation_df_mean</th>\n",
       "      <th>ConvexArea_df_mean</th>\n",
       "      <th>Solidity_df_mean</th>\n",
       "      <th>Extent_df_mean</th>\n",
       "      <th>Perimeter_df_mean</th>\n",
       "      <th>Contrast_df_mean</th>\n",
       "      <th>Correlation_df_mean</th>\n",
       "      <th>Energy_df_mean</th>\n",
       "      <th>Homogeneity_df_mean</th>\n",
       "      <th>Entropy_df_mean</th>\n",
       "    </tr>\n",
       "  </thead>\n",
       "  <tbody>\n",
       "    <tr>\n",
       "      <th>4</th>\n",
       "      <td>1006</td>\n",
       "      <td>-0.281479</td>\n",
       "      <td>-0.045502</td>\n",
       "      <td>-0.027825</td>\n",
       "      <td>1.136032</td>\n",
       "      <td>-0.231991</td>\n",
       "      <td>0.281277</td>\n",
       "      <td>0.412655</td>\n",
       "      <td>-1.172179</td>\n",
       "      <td>1.639159</td>\n",
       "      <td>...</td>\n",
       "      <td>0.023047</td>\n",
       "      <td>3.152284</td>\n",
       "      <td>-0.396801</td>\n",
       "      <td>-0.053608</td>\n",
       "      <td>-0.051569</td>\n",
       "      <td>0.007689</td>\n",
       "      <td>-0.934591</td>\n",
       "      <td>-0.122998</td>\n",
       "      <td>0.007688</td>\n",
       "      <td>-0.039911</td>\n",
       "    </tr>\n",
       "    <tr>\n",
       "      <th>6</th>\n",
       "      <td>1006</td>\n",
       "      <td>0.396827</td>\n",
       "      <td>0.364207</td>\n",
       "      <td>0.760360</td>\n",
       "      <td>-0.182639</td>\n",
       "      <td>0.477593</td>\n",
       "      <td>0.597057</td>\n",
       "      <td>0.412655</td>\n",
       "      <td>-1.381850</td>\n",
       "      <td>1.580024</td>\n",
       "      <td>...</td>\n",
       "      <td>0.021574</td>\n",
       "      <td>0.708211</td>\n",
       "      <td>-0.320376</td>\n",
       "      <td>-0.034396</td>\n",
       "      <td>-0.021088</td>\n",
       "      <td>0.013395</td>\n",
       "      <td>0.451380</td>\n",
       "      <td>-0.132484</td>\n",
       "      <td>0.013394</td>\n",
       "      <td>-0.039392</td>\n",
       "    </tr>\n",
       "    <tr>\n",
       "      <th>10</th>\n",
       "      <td>1005</td>\n",
       "      <td>-0.371324</td>\n",
       "      <td>-0.395874</td>\n",
       "      <td>0.343566</td>\n",
       "      <td>-0.015036</td>\n",
       "      <td>0.098497</td>\n",
       "      <td>2.991188</td>\n",
       "      <td>1.240615</td>\n",
       "      <td>1.903007</td>\n",
       "      <td>-1.633976</td>\n",
       "      <td>...</td>\n",
       "      <td>0.341943</td>\n",
       "      <td>0.387886</td>\n",
       "      <td>-3.303309</td>\n",
       "      <td>-0.475242</td>\n",
       "      <td>-0.019228</td>\n",
       "      <td>0.021857</td>\n",
       "      <td>-0.611890</td>\n",
       "      <td>-1.646683</td>\n",
       "      <td>0.021855</td>\n",
       "      <td>-0.387888</td>\n",
       "    </tr>\n",
       "    <tr>\n",
       "      <th>14</th>\n",
       "      <td>1005</td>\n",
       "      <td>-1.389567</td>\n",
       "      <td>-1.786668</td>\n",
       "      <td>-1.173511</td>\n",
       "      <td>0.389195</td>\n",
       "      <td>-1.409681</td>\n",
       "      <td>-1.089927</td>\n",
       "      <td>1.240615</td>\n",
       "      <td>0.784757</td>\n",
       "      <td>0.879272</td>\n",
       "      <td>...</td>\n",
       "      <td>-0.005092</td>\n",
       "      <td>1.632230</td>\n",
       "      <td>-0.385114</td>\n",
       "      <td>-0.071282</td>\n",
       "      <td>0.003173</td>\n",
       "      <td>0.030120</td>\n",
       "      <td>-2.255885</td>\n",
       "      <td>-0.221465</td>\n",
       "      <td>0.030119</td>\n",
       "      <td>-0.064908</td>\n",
       "    </tr>\n",
       "    <tr>\n",
       "      <th>16</th>\n",
       "      <td>1007</td>\n",
       "      <td>1.313371</td>\n",
       "      <td>0.512965</td>\n",
       "      <td>0.718253</td>\n",
       "      <td>-1.712929</td>\n",
       "      <td>1.163325</td>\n",
       "      <td>-0.004204</td>\n",
       "      <td>-1.243265</td>\n",
       "      <td>0.225633</td>\n",
       "      <td>2.067890</td>\n",
       "      <td>...</td>\n",
       "      <td>0.022666</td>\n",
       "      <td>-1.208315</td>\n",
       "      <td>0.941764</td>\n",
       "      <td>0.064038</td>\n",
       "      <td>0.017294</td>\n",
       "      <td>0.008738</td>\n",
       "      <td>0.410798</td>\n",
       "      <td>0.143208</td>\n",
       "      <td>0.008737</td>\n",
       "      <td>0.018195</td>\n",
       "    </tr>\n",
       "    <tr>\n",
       "      <th>...</th>\n",
       "      <td>...</td>\n",
       "      <td>...</td>\n",
       "      <td>...</td>\n",
       "      <td>...</td>\n",
       "      <td>...</td>\n",
       "      <td>...</td>\n",
       "      <td>...</td>\n",
       "      <td>...</td>\n",
       "      <td>...</td>\n",
       "      <td>...</td>\n",
       "      <td>...</td>\n",
       "      <td>...</td>\n",
       "      <td>...</td>\n",
       "      <td>...</td>\n",
       "      <td>...</td>\n",
       "      <td>...</td>\n",
       "      <td>...</td>\n",
       "      <td>...</td>\n",
       "      <td>...</td>\n",
       "      <td>...</td>\n",
       "      <td>...</td>\n",
       "    </tr>\n",
       "    <tr>\n",
       "      <th>18062</th>\n",
       "      <td>1005</td>\n",
       "      <td>-1.876011</td>\n",
       "      <td>-1.023883</td>\n",
       "      <td>-1.784291</td>\n",
       "      <td>1.241258</td>\n",
       "      <td>-1.853414</td>\n",
       "      <td>-1.103159</td>\n",
       "      <td>1.571799</td>\n",
       "      <td>0.155742</td>\n",
       "      <td>-0.607980</td>\n",
       "      <td>...</td>\n",
       "      <td>0.022160</td>\n",
       "      <td>-0.640687</td>\n",
       "      <td>-0.169179</td>\n",
       "      <td>-0.037156</td>\n",
       "      <td>-0.022073</td>\n",
       "      <td>-0.004819</td>\n",
       "      <td>-0.390380</td>\n",
       "      <td>-0.049485</td>\n",
       "      <td>-0.004821</td>\n",
       "      <td>-0.025186</td>\n",
       "    </tr>\n",
       "    <tr>\n",
       "      <th>18070</th>\n",
       "      <td>1005</td>\n",
       "      <td>-1.235389</td>\n",
       "      <td>-1.184830</td>\n",
       "      <td>-1.181574</td>\n",
       "      <td>1.637239</td>\n",
       "      <td>-1.238041</td>\n",
       "      <td>0.817221</td>\n",
       "      <td>1.075023</td>\n",
       "      <td>-0.053929</td>\n",
       "      <td>-1.633976</td>\n",
       "      <td>...</td>\n",
       "      <td>0.023273</td>\n",
       "      <td>0.607020</td>\n",
       "      <td>-0.349575</td>\n",
       "      <td>-0.060813</td>\n",
       "      <td>-0.021458</td>\n",
       "      <td>-0.004469</td>\n",
       "      <td>-4.864469</td>\n",
       "      <td>-0.127436</td>\n",
       "      <td>-0.004471</td>\n",
       "      <td>-0.046638</td>\n",
       "    </tr>\n",
       "    <tr>\n",
       "      <th>18072</th>\n",
       "      <td>1005</td>\n",
       "      <td>-0.431306</td>\n",
       "      <td>0.104705</td>\n",
       "      <td>-0.046401</td>\n",
       "      <td>0.833080</td>\n",
       "      <td>-0.388509</td>\n",
       "      <td>0.427141</td>\n",
       "      <td>1.075023</td>\n",
       "      <td>0.225633</td>\n",
       "      <td>0.515590</td>\n",
       "      <td>...</td>\n",
       "      <td>0.170888</td>\n",
       "      <td>-0.310508</td>\n",
       "      <td>-0.256162</td>\n",
       "      <td>-0.046167</td>\n",
       "      <td>-0.022684</td>\n",
       "      <td>0.176147</td>\n",
       "      <td>-1.218371</td>\n",
       "      <td>-0.146318</td>\n",
       "      <td>0.176145</td>\n",
       "      <td>-0.044246</td>\n",
       "    </tr>\n",
       "    <tr>\n",
       "      <th>18076</th>\n",
       "      <td>1005</td>\n",
       "      <td>-1.006259</td>\n",
       "      <td>-1.353343</td>\n",
       "      <td>-1.051394</td>\n",
       "      <td>-0.059520</td>\n",
       "      <td>-1.025978</td>\n",
       "      <td>-1.346431</td>\n",
       "      <td>-0.580897</td>\n",
       "      <td>0.714867</td>\n",
       "      <td>0.973888</td>\n",
       "      <td>...</td>\n",
       "      <td>0.022869</td>\n",
       "      <td>-0.264346</td>\n",
       "      <td>0.048461</td>\n",
       "      <td>-0.013868</td>\n",
       "      <td>-0.020752</td>\n",
       "      <td>0.013245</td>\n",
       "      <td>-0.256969</td>\n",
       "      <td>-0.064484</td>\n",
       "      <td>0.013244</td>\n",
       "      <td>-0.029827</td>\n",
       "    </tr>\n",
       "    <tr>\n",
       "      <th>18077</th>\n",
       "      <td>1005</td>\n",
       "      <td>-1.688348</td>\n",
       "      <td>-0.497070</td>\n",
       "      <td>-1.536489</td>\n",
       "      <td>1.171395</td>\n",
       "      <td>-1.677147</td>\n",
       "      <td>-0.683204</td>\n",
       "      <td>-0.580897</td>\n",
       "      <td>0.365414</td>\n",
       "      <td>-0.519277</td>\n",
       "      <td>...</td>\n",
       "      <td>0.025611</td>\n",
       "      <td>-0.633390</td>\n",
       "      <td>0.032208</td>\n",
       "      <td>-0.015073</td>\n",
       "      <td>-0.024085</td>\n",
       "      <td>0.014260</td>\n",
       "      <td>-0.115162</td>\n",
       "      <td>0.122745</td>\n",
       "      <td>0.014258</td>\n",
       "      <td>0.002618</td>\n",
       "    </tr>\n",
       "  </tbody>\n",
       "</table>\n",
       "<p>4624 rows × 136 columns</p>\n",
       "</div>"
      ],
      "text/plain": [
       "       density   moment3   moment4   moment5     range  skewness  kurtosis  \\\n",
       "4         1006 -0.281479 -0.045502 -0.027825  1.136032 -0.231991  0.281277   \n",
       "6         1006  0.396827  0.364207  0.760360 -0.182639  0.477593  0.597057   \n",
       "10        1005 -0.371324 -0.395874  0.343566 -0.015036  0.098497  2.991188   \n",
       "14        1005 -1.389567 -1.786668 -1.173511  0.389195 -1.409681 -1.089927   \n",
       "16        1007  1.313371  0.512965  0.718253 -1.712929  1.163325 -0.004204   \n",
       "...        ...       ...       ...       ...       ...       ...       ...   \n",
       "18062     1005 -1.876011 -1.023883 -1.784291  1.241258 -1.853414 -1.103159   \n",
       "18070     1005 -1.235389 -1.184830 -1.181574  1.637239 -1.238041  0.817221   \n",
       "18072     1005 -0.431306  0.104705 -0.046401  0.833080 -0.388509  0.427141   \n",
       "18076     1005 -1.006259 -1.353343 -1.051394 -0.059520 -1.025978 -1.346431   \n",
       "18077     1005 -1.688348 -0.497070 -1.536489  1.171395 -1.677147 -0.683204   \n",
       "\n",
       "       PatientAge  BodyPartThickness  CompressionForce  ...  \\\n",
       "4        0.412655          -1.172179          1.639159  ...   \n",
       "6        0.412655          -1.381850          1.580024  ...   \n",
       "10       1.240615           1.903007         -1.633976  ...   \n",
       "14       1.240615           0.784757          0.879272  ...   \n",
       "16      -1.243265           0.225633          2.067890  ...   \n",
       "...           ...                ...               ...  ...   \n",
       "18062    1.571799           0.155742         -0.607980  ...   \n",
       "18070    1.075023          -0.053929         -1.633976  ...   \n",
       "18072    1.075023           0.225633          0.515590  ...   \n",
       "18076   -0.580897           0.714867          0.973888  ...   \n",
       "18077   -0.580897           0.365414         -0.519277  ...   \n",
       "\n",
       "       Orientation_df_mean  ConvexArea_df_mean  Solidity_df_mean  \\\n",
       "4                 0.023047            3.152284         -0.396801   \n",
       "6                 0.021574            0.708211         -0.320376   \n",
       "10                0.341943            0.387886         -3.303309   \n",
       "14               -0.005092            1.632230         -0.385114   \n",
       "16                0.022666           -1.208315          0.941764   \n",
       "...                    ...                 ...               ...   \n",
       "18062             0.022160           -0.640687         -0.169179   \n",
       "18070             0.023273            0.607020         -0.349575   \n",
       "18072             0.170888           -0.310508         -0.256162   \n",
       "18076             0.022869           -0.264346          0.048461   \n",
       "18077             0.025611           -0.633390          0.032208   \n",
       "\n",
       "       Extent_df_mean  Perimeter_df_mean  Contrast_df_mean  \\\n",
       "4           -0.053608          -0.051569          0.007689   \n",
       "6           -0.034396          -0.021088          0.013395   \n",
       "10          -0.475242          -0.019228          0.021857   \n",
       "14          -0.071282           0.003173          0.030120   \n",
       "16           0.064038           0.017294          0.008738   \n",
       "...               ...                ...               ...   \n",
       "18062       -0.037156          -0.022073         -0.004819   \n",
       "18070       -0.060813          -0.021458         -0.004469   \n",
       "18072       -0.046167          -0.022684          0.176147   \n",
       "18076       -0.013868          -0.020752          0.013245   \n",
       "18077       -0.015073          -0.024085          0.014260   \n",
       "\n",
       "       Correlation_df_mean  Energy_df_mean  Homogeneity_df_mean  \\\n",
       "4                -0.934591       -0.122998             0.007688   \n",
       "6                 0.451380       -0.132484             0.013394   \n",
       "10               -0.611890       -1.646683             0.021855   \n",
       "14               -2.255885       -0.221465             0.030119   \n",
       "16                0.410798        0.143208             0.008737   \n",
       "...                    ...             ...                  ...   \n",
       "18062            -0.390380       -0.049485            -0.004821   \n",
       "18070            -4.864469       -0.127436            -0.004471   \n",
       "18072            -1.218371       -0.146318             0.176145   \n",
       "18076            -0.256969       -0.064484             0.013244   \n",
       "18077            -0.115162        0.122745             0.014258   \n",
       "\n",
       "       Entropy_df_mean  \n",
       "4            -0.039911  \n",
       "6            -0.039392  \n",
       "10           -0.387888  \n",
       "14           -0.064908  \n",
       "16            0.018195  \n",
       "...                ...  \n",
       "18062        -0.025186  \n",
       "18070        -0.046638  \n",
       "18072        -0.044246  \n",
       "18076        -0.029827  \n",
       "18077         0.002618  \n",
       "\n",
       "[4624 rows x 136 columns]"
      ]
     },
     "execution_count": 27,
     "metadata": {},
     "output_type": "execute_result"
    }
   ],
   "source": [
    "data_final"
   ]
  },
  {
   "cell_type": "code",
   "execution_count": 28,
   "metadata": {},
   "outputs": [],
   "source": [
    "from sklearn.utils import resample\n",
    "\n",
    "x = data_final\n",
    "x_1, x_2 = train_test_split(x, test_size=0.30, random_state=1) # split data into training and testing set"
   ]
  },
  {
   "cell_type": "markdown",
   "metadata": {},
   "source": [
    "Our dataset is highly unbalanced. Most breasts had density class 1006, while classes 1005, 1007 and 1008 were in minority."
   ]
  },
  {
   "cell_type": "code",
   "execution_count": 29,
   "metadata": {},
   "outputs": [
    {
     "data": {
      "text/plain": [
       "density\n",
       "1005     703\n",
       "1006    1636\n",
       "1007     831\n",
       "1008      66\n",
       "dtype: int64"
      ]
     },
     "execution_count": 29,
     "metadata": {},
     "output_type": "execute_result"
    }
   ],
   "source": [
    "x_1.groupby(\"density\").size() # show number of data in each density class of training set x_1"
   ]
  },
  {
   "cell_type": "code",
   "execution_count": 30,
   "metadata": {},
   "outputs": [],
   "source": [
    "ss1005 = x_1[x_1.density==1005] # split data by their density label\n",
    "ss1006 = x_1[x_1.density==1006]\n",
    "ss1007 = x_1[x_1.density==1007]\n",
    "ss1008 = x_1[x_1.density==1008]\n",
    "\n",
    "s1,s2 = np.shape(ss1006) # find number of images with density 1006\n",
    "\n",
    "# Supersample minority classes\n",
    "# Minority classes will have same number of entries \n",
    "ss1005 = resample(ss1005, replace=True, n_samples=s1, random_state=1)\n",
    "ss1007 = resample(ss1007, replace=True, n_samples=s1, random_state=1)\n",
    "ss1008 = resample(ss1008, replace=True, n_samples=s1, random_state=1)\n",
    "\n",
    "\n",
    "x_1 = pd.concat([ss1005,ss1006,ss1007,ss1008]) # we have no generated balanced dataset"
   ]
  },
  {
   "cell_type": "code",
   "execution_count": 31,
   "metadata": {},
   "outputs": [],
   "source": [
    "y_1 = x_1.density.replace([1005,1006,1007,1008],[0,1,2,3]).values # replace labels and make it nice again with .values\n",
    "y_2 = x_2.density.replace([1005,1006,1007,1008],[0,1,2,3]).values\n",
    "\n",
    "x_1 = x_1.drop(columns=[\"density\"]) # drop density/label column\n",
    "x_2 = x_2.drop(columns=[\"density\"]) # drop density/label column\n",
    "x_1 = x_1[mrmr_names].values # only relevant columns \n",
    "x_2 = x_2[mrmr_names].values # only relevant columns \n"
   ]
  },
  {
   "cell_type": "code",
   "execution_count": 32,
   "metadata": {},
   "outputs": [],
   "source": [
    "from keras.utils import to_categorical # use this function for 'one hot encoding' of our labels (density)\n",
    "\n",
    "y_1 = to_categorical(y_1, num_classes=4)\n",
    "y_2 = to_categorical(y_2, num_classes=4)"
   ]
  },
  {
   "cell_type": "markdown",
   "metadata": {},
   "source": [
    "We can now finally train the model"
   ]
  },
  {
   "cell_type": "code",
   "execution_count": 33,
   "metadata": {},
   "outputs": [
    {
     "name": "stdout",
     "output_type": "stream",
     "text": [
      "Epoch 1/5\n",
      "655/655 [==============================] - 1s 1ms/step - loss: 1.2016 - accuracy: 0.4395\n",
      "Epoch 2/5\n",
      "655/655 [==============================] - 1s 1ms/step - loss: 0.8463 - accuracy: 0.6256\n",
      "Epoch 3/5\n",
      "655/655 [==============================] - 1s 895us/step - loss: 0.7634 - accuracy: 0.6686\n",
      "Epoch 4/5\n",
      "655/655 [==============================] - 1s 869us/step - loss: 0.7394 - accuracy: 0.6715\n",
      "Epoch 5/5\n",
      "655/655 [==============================] - 1s 832us/step - loss: 0.7002 - accuracy: 0.7022\n"
     ]
    },
    {
     "data": {
      "text/plain": [
       "<tensorflow.python.keras.callbacks.History at 0x1ab7efe13a0>"
      ]
     },
     "execution_count": 33,
     "metadata": {},
     "output_type": "execute_result"
    }
   ],
   "source": [
    "model.fit(x_1,y_1,epochs=5,batch_size=10) "
   ]
  },
  {
   "cell_type": "code",
   "execution_count": 34,
   "metadata": {},
   "outputs": [
    {
     "name": "stdout",
     "output_type": "stream",
     "text": [
      "44/44 [==============================] - 0s 1ms/step - loss: 0.9363 - accuracy: 0.5677\n"
     ]
    }
   ],
   "source": [
    "score=model.evaluate(x_2,y_2) # evaluate model on test set"
   ]
  },
  {
   "cell_type": "code",
   "execution_count": 35,
   "metadata": {},
   "outputs": [],
   "source": [
    "prediction = model.predict(x_2) # make predictions on test set"
   ]
  },
  {
   "cell_type": "markdown",
   "metadata": {},
   "source": [
    "Create a function that reverses 'one hot encoding'"
   ]
  },
  {
   "cell_type": "code",
   "execution_count": 36,
   "metadata": {},
   "outputs": [],
   "source": [
    "def fix_prediction(x): # this function will reverse label encoding\n",
    "    xs,ys = np.shape(x)\n",
    "    newvector = np.zeros(xs)\n",
    "    for i in range(xs):\n",
    "        m = np.argmax(x[i])\n",
    "        newvector[i]=m\n",
    "    return newvector"
   ]
  },
  {
   "cell_type": "code",
   "execution_count": 42,
   "metadata": {
    "scrolled": true
   },
   "outputs": [
    {
     "data": {
      "text/plain": [
       "<AxesSubplot:>"
      ]
     },
     "execution_count": 42,
     "metadata": {},
     "output_type": "execute_result"
    },
    {
     "data": {
      "image/png": "[encoded data removed]",
      "text/plain": [
       "<Figure size 432x288 with 2 Axes>"
      ]
     },
     "metadata": {
      "needs_background": "light"
     },
     "output_type": "display_data"
    }
   ],
   "source": [
    "import seaborn as sns\n",
    "import sklearn \n",
    "labels= [\"Class 1\", \"Class 2\", \"Class 3\", \"Class 4\"]\n",
    "\n",
    "matrix=sklearn.metrics.confusion_matrix(fix_prediction(y_2),fix_prediction(prediction),normalize=\"true\") # confusion matrix\n",
    "sns.heatmap(matrix, annot=True, xticklabels=labels, yticklabels=labels) # we will normalize "
   ]
  },
  {
   "cell_type": "markdown",
   "metadata": {},
   "source": [
    "A good metric to assess predictive power is Cohens kappa coefficient"
   ]
  },
  {
   "cell_type": "code",
   "execution_count": 38,
   "metadata": {
    "scrolled": true
   },
   "outputs": [
    {
     "data": {
      "text/plain": [
       "0.6204397120630338"
      ]
     },
     "execution_count": 38,
     "metadata": {},
     "output_type": "execute_result"
    }
   ],
   "source": [
    "sklearn.metrics.cohen_kappa_score(fix_prediction(y_2), fix_prediction(prediction), labels=None, weights='quadratic')"
   ]
  },
  {
   "cell_type": "markdown",
   "metadata": {},
   "source": [
    "\"One way to interpret kappa is with this scale (1): \\\n",
    "\\\n",
    "Kappa < 0: No agreement\\\n",
    "Kappa between 0.00 and 0.20: Slight agreement \\\n",
    "Kappa between 0.21 and 0.40: Fair agreement \\\n",
    "Kappa between 0.41 and 0.60: Moderate agreement \\\n",
    "Kappa between 0.61 and 0.80: Substantial agreement \\\n",
    "Kappa between 0.81 and 1.00: Almost perfect agreement.\"\n",
    "1. Landis, J.R.; Koch, G.G. (1977). The measurement of observer agreement for categorical data. Biometrics. 33 (1): 159-174. https://doi.org/10.2307%2F2529310"
   ]
  },
  {
   "cell_type": "markdown",
   "metadata": {},
   "source": [
    "We have substantial agreement (Kappa = 0.62)"
   ]
  },
  {
   "cell_type": "markdown",
   "metadata": {},
   "source": [
    "We can also develop a model using multinomial logistic regression from sklearn python module"
   ]
  },
  {
   "cell_type": "code",
   "execution_count": 39,
   "metadata": {},
   "outputs": [],
   "source": [
    "from sklearn.linear_model import LogisticRegression\n",
    "clf = LogisticRegression(solver=\"newton-cg\",multi_class=\"multinomial\",max_iter=200).fit(x_1, fix_prediction(y_1))\n",
    "pred_lg=clf.predict(x_2)"
   ]
  },
  {
   "cell_type": "code",
   "execution_count": 43,
   "metadata": {},
   "outputs": [
    {
     "data": {
      "text/plain": [
       "<AxesSubplot:>"
      ]
     },
     "execution_count": 43,
     "metadata": {},
     "output_type": "execute_result"
    },
    {
     "data": {
      "image/png": "[encoded data removed]",
      "text/plain": [
       "<Figure size 432x288 with 2 Axes>"
      ]
     },
     "metadata": {
      "needs_background": "light"
     },
     "output_type": "display_data"
    }
   ],
   "source": [
    "import seaborn as sns\n",
    "import sklearn \n",
    "\n",
    "matrix=sklearn.metrics.confusion_matrix(fix_prediction(y_2),(pred_lg),normalize=\"true\") # confusion matrix\n",
    "sns.heatmap(matrix, annot=True,xticklabels=labels, yticklabels=labels) # we will normalize "
   ]
  },
  {
   "cell_type": "code",
   "execution_count": 25,
   "metadata": {
    "scrolled": true
   },
   "outputs": [
    {
     "data": {
      "text/plain": [
       "0.6061480963601681"
      ]
     },
     "execution_count": 25,
     "metadata": {},
     "output_type": "execute_result"
    }
   ],
   "source": [
    "sklearn.metrics.cohen_kappa_score(fix_prediction(y_2), pred_lg, labels=None, weights='quadratic')"
   ]
  },
  {
   "cell_type": "markdown",
   "metadata": {},
   "source": [
    "Multinomial logistic regression gives very similar result."
   ]
  }
 ],
 "metadata": {
  "kernelspec": {
   "display_name": "Python 3",
   "language": "python",
   "name": "python3"
  },
  "language_info": {
   "codemirror_mode": {
    "name": "ipython",
    "version": 3
   },
   "file_extension": ".py",
   "mimetype": "text/x-python",
   "name": "python",
   "nbconvert_exporter": "python",
   "pygments_lexer": "ipython3",
   "version": "3.8.6"
  }
 },
 "nbformat": 4,
 "nbformat_minor": 4
}
